{
 "cells": [
  {
   "cell_type": "code",
   "execution_count": 1,
   "metadata": {
    "collapsed": false
   },
   "outputs": [
    {
     "name": "stdout",
     "output_type": "stream",
     "text": [
      "Cloning into 'torchdiffeq'...\n",
      "remote: Enumerating objects: 214, done.\u001b[K\n",
      "remote: Total 214 (delta 0), reused 0 (delta 0), pack-reused 214\u001b[K\n",
      "Receiving objects: 100% (214/214), 704.19 KiB | 0 bytes/s, done.\n",
      "Resolving deltas: 100% (96/96), done.\n",
      "Checking connectivity... done.\n"
     ]
    }
   ],
   "source": [
    "!git clone https://github.com/rtqichen/torchdiffeq.git"
   ]
  },
  {
   "cell_type": "code",
   "execution_count": 2,
   "metadata": {
    "collapsed": false
   },
   "outputs": [
    {
     "name": "stdout",
     "output_type": "stream",
     "text": [
      "Collecting git+https://github.com/rtqichen/torchdiffeq\n",
      "  Cloning https://github.com/rtqichen/torchdiffeq to /tmp/pip-zszi_h4d-build\n",
      "Requirement already satisfied (use --upgrade to upgrade): torch>=0.4.1 in ./anaconda3/lib/python3.5/site-packages (from torchdiffeq==0.0.1)\n",
      "Requirement already satisfied (use --upgrade to upgrade): numpy in ./anaconda3/lib/python3.5/site-packages (from torch>=0.4.1->torchdiffeq==0.0.1)\n",
      "Installing collected packages: torchdiffeq\n",
      "  Running setup.py install for torchdiffeq ... \u001b[?25l-\b \b\\\b \bdone\n",
      "\u001b[?25hSuccessfully installed torchdiffeq-0.0.1\n",
      "\u001b[33mYou are using pip version 8.1.1, however version 19.3.1 is available.\n",
      "You should consider upgrading via the 'pip install --upgrade pip' command.\u001b[0m\n"
     ]
    }
   ],
   "source": [
    "!pip install git+https://github.com/rtqichen/torchdiffeq"
   ]
  },
  {
   "cell_type": "code",
   "execution_count": 4,
   "metadata": {
    "collapsed": false
   },
   "outputs": [
    {
     "name": "stdout",
     "output_type": "stream",
     "text": [
      "/home/n_korhani/torchdiffeq/examples\n"
     ]
    }
   ],
   "source": [
    "%cd torchdiffeq/examples/"
   ]
  },
  {
   "cell_type": "code",
   "execution_count": null,
   "metadata": {
    "collapsed": false
   },
   "outputs": [
    {
     "name": "stdout",
     "output_type": "stream",
     "text": [
      "Namespace(adjoint=True, gpu=0, lr=0.01, niters=3000, train_dir='train_dir', visualize=True)\n",
      "True cuda:0\n",
      "Saved ground truth spiral at ./ground_truth.png\n",
      "Iter: 1, running inst elbo: -19044.6055\n",
      "Iter: 2, running inst elbo: -18467.1406\n",
      "Iter: 3, running inst elbo: -18066.2285\n",
      "Iter: 4, running inst elbo: -17394.8105\n",
      "Iter: 5, running inst elbo: -16374.3564\n",
      "Iter: 6, running inst elbo: -14623.9160\n",
      "Iter: 7, running inst elbo: -12764.3545\n",
      "Iter: 8, running inst elbo: -11387.1738\n",
      "Iter: 9, running inst elbo: -10789.6162\n",
      "Iter: 10, running inst elbo: -9658.3438\n",
      "Iter: 11, running inst elbo: -8380.7852\n",
      "Iter: 12, running inst elbo: -7215.7163\n",
      "Iter: 13, running inst elbo: -6896.9844\n",
      "Iter: 14, running inst elbo: -7041.1250\n",
      "Iter: 15, running inst elbo: -7070.6733\n",
      "Iter: 16, running inst elbo: -6963.7036\n",
      "Iter: 17, running inst elbo: -6573.1714\n",
      "Iter: 18, running inst elbo: -6219.6074\n",
      "Iter: 19, running inst elbo: -6012.7056\n",
      "Iter: 20, running inst elbo: -5803.5918\n",
      "Iter: 21, running inst elbo: -5739.7773\n",
      "Iter: 22, running inst elbo: -5699.6162\n",
      "Iter: 23, running inst elbo: -5773.9419\n",
      "Iter: 24, running inst elbo: -5728.4448\n",
      "Iter: 25, running inst elbo: -5708.9331\n",
      "Iter: 26, running inst elbo: -5543.8242\n",
      "Iter: 27, running inst elbo: -5501.5908\n",
      "Iter: 28, running inst elbo: -5480.4434\n",
      "Iter: 29, running inst elbo: -5484.6235\n",
      "Iter: 30, running inst elbo: -5464.4912\n",
      "Iter: 31, running inst elbo: -5470.7583\n",
      "Iter: 32, running inst elbo: -5513.1714\n",
      "Iter: 33, running inst elbo: -5482.5557\n",
      "Iter: 34, running inst elbo: -5433.3926\n",
      "Iter: 35, running inst elbo: -5426.8403\n",
      "Iter: 36, running inst elbo: -5379.1431\n",
      "Iter: 37, running inst elbo: -5374.6543\n",
      "Iter: 38, running inst elbo: -5371.2251\n",
      "Iter: 39, running inst elbo: -5356.7441\n",
      "Iter: 40, running inst elbo: -5384.4795\n",
      "Iter: 41, running inst elbo: -5326.0078\n",
      "Iter: 42, running inst elbo: -5321.6333\n",
      "Iter: 43, running inst elbo: -5331.5171\n",
      "Iter: 44, running inst elbo: -5309.7241\n",
      "Iter: 45, running inst elbo: -5279.2104\n",
      "Iter: 46, running inst elbo: -5241.6406\n",
      "Iter: 47, running inst elbo: -5242.7158\n",
      "Iter: 48, running inst elbo: -5180.5352\n",
      "Iter: 49, running inst elbo: -5197.4771\n",
      "Iter: 50, running inst elbo: -5139.3540\n",
      "Iter: 51, running inst elbo: -5165.2725\n",
      "Iter: 52, running inst elbo: -5138.6953\n",
      "Iter: 53, running inst elbo: -5117.3345\n",
      "Iter: 54, running inst elbo: -5088.3472\n",
      "Iter: 55, running inst elbo: -5086.0610\n",
      "Iter: 56, running inst elbo: -5074.5684\n",
      "Iter: 57, running inst elbo: -5027.8164\n",
      "Iter: 58, running inst elbo: -4988.8774\n",
      "Iter: 59, running inst elbo: -4950.4624\n",
      "Iter: 60, running inst elbo: -4959.8320\n",
      "Iter: 61, running inst elbo: -4895.4512\n",
      "Iter: 62, running inst elbo: -4814.6421\n",
      "Iter: 63, running inst elbo: -4828.8921\n",
      "Iter: 64, running inst elbo: -4745.1030\n",
      "Iter: 65, running inst elbo: -4717.7583\n",
      "Iter: 66, running inst elbo: -4659.1753\n",
      "Iter: 67, running inst elbo: -4643.0342\n",
      "Iter: 68, running inst elbo: -4591.7622\n",
      "Iter: 69, running inst elbo: -4551.7202\n",
      "Iter: 70, running inst elbo: -4542.3237\n",
      "Iter: 71, running inst elbo: -4493.3799\n",
      "Iter: 72, running inst elbo: -4442.3643\n",
      "Iter: 73, running inst elbo: -4414.3022\n",
      "Iter: 74, running inst elbo: -4426.1772\n",
      "Iter: 75, running inst elbo: -4379.1392\n",
      "Iter: 76, running inst elbo: -4338.8013\n",
      "Iter: 77, running inst elbo: -4291.0840\n",
      "Iter: 78, running inst elbo: -4262.7036\n",
      "Iter: 79, running inst elbo: -4222.5352\n",
      "Iter: 80, running inst elbo: -4214.4932\n",
      "Iter: 81, running inst elbo: -4155.6919\n",
      "Iter: 82, running inst elbo: -4096.8833\n",
      "Iter: 83, running inst elbo: -4051.3652\n",
      "Iter: 84, running inst elbo: -4034.7097\n",
      "Iter: 85, running inst elbo: -3990.8582\n",
      "Iter: 86, running inst elbo: -3961.2012\n",
      "Iter: 87, running inst elbo: -3895.4631\n",
      "Iter: 88, running inst elbo: -3863.4658\n",
      "Iter: 89, running inst elbo: -3831.4602\n",
      "Iter: 90, running inst elbo: -3769.5645\n",
      "Iter: 91, running inst elbo: -3729.4473\n",
      "Iter: 92, running inst elbo: -3695.9058\n",
      "Iter: 93, running inst elbo: -3640.2522\n",
      "Iter: 94, running inst elbo: -3620.3181\n",
      "Iter: 95, running inst elbo: -3586.6545\n",
      "Iter: 96, running inst elbo: -3533.0144\n",
      "Iter: 97, running inst elbo: -3506.8228\n",
      "Iter: 98, running inst elbo: -3462.3386\n",
      "Iter: 99, running inst elbo: -3439.9902\n",
      "Iter: 100, running inst elbo: -3375.9897\n",
      "Iter: 101, running inst elbo: -3333.6206\n",
      "Iter: 102, running inst elbo: -3312.6550\n",
      "Iter: 103, running inst elbo: -3268.3682\n",
      "Iter: 104, running inst elbo: -3269.3433\n",
      "Iter: 105, running inst elbo: -3208.6130\n",
      "Iter: 106, running inst elbo: -3188.2847\n",
      "Iter: 107, running inst elbo: -3122.3423\n",
      "Iter: 108, running inst elbo: -3085.6885\n",
      "Iter: 109, running inst elbo: -3079.6125\n",
      "Iter: 110, running inst elbo: -3019.0728\n",
      "Iter: 111, running inst elbo: -2986.5947\n",
      "Iter: 112, running inst elbo: -2963.0266\n",
      "Iter: 113, running inst elbo: -2913.8672\n",
      "Iter: 114, running inst elbo: -2865.8218\n",
      "Iter: 115, running inst elbo: -2829.0686\n",
      "Iter: 116, running inst elbo: -2822.7612\n",
      "Iter: 117, running inst elbo: -2770.1750\n",
      "Iter: 118, running inst elbo: -2699.9160\n",
      "Iter: 119, running inst elbo: -2695.3032\n",
      "Iter: 120, running inst elbo: -2598.4053\n",
      "Iter: 121, running inst elbo: -2574.8516\n",
      "Iter: 122, running inst elbo: -2513.1804\n",
      "Iter: 123, running inst elbo: -2495.4067\n",
      "Iter: 124, running inst elbo: -2452.3301\n",
      "Iter: 125, running inst elbo: -2404.5383\n",
      "Iter: 126, running inst elbo: -2351.4536\n",
      "Iter: 127, running inst elbo: -2327.6587\n",
      "Iter: 128, running inst elbo: -2258.3220\n",
      "Iter: 129, running inst elbo: -2247.9456\n",
      "Iter: 130, running inst elbo: -2187.5732\n",
      "Iter: 131, running inst elbo: -2179.4985\n",
      "Iter: 132, running inst elbo: -2179.2339\n",
      "Iter: 133, running inst elbo: -2193.5696\n",
      "Iter: 134, running inst elbo: -2112.0652\n",
      "Iter: 135, running inst elbo: -2063.3838\n",
      "Iter: 136, running inst elbo: -2069.4180\n",
      "Iter: 137, running inst elbo: -2039.4550\n",
      "Iter: 138, running inst elbo: -2033.6877\n",
      "Iter: 139, running inst elbo: -1965.9597\n",
      "Iter: 140, running inst elbo: -1964.0475\n",
      "Iter: 1678, running inst elbo: -104.0169\n",
      "Iter: 1679, running inst elbo: -123.0864\n",
      "Iter: 1680, running inst elbo: -110.7916\n",
      "Iter: 1681, running inst elbo: -107.4878\n"
     ]
    }
   ],
   "source": [
    "!python latent_ode.py --adjoint True --visualize True --train_dir=\"train_dir\" --niters=3000"
   ]
  },
  {
   "cell_type": "code",
   "execution_count": null,
   "metadata": {
    "collapsed": true
   },
   "outputs": [],
   "source": [
    "1+1"
   ]
  },
  {
   "cell_type": "code",
   "execution_count": null,
   "metadata": {
    "collapsed": true
   },
   "outputs": [],
   "source": []
  }
 ],
 "metadata": {
  "kernelspec": {
   "display_name": "Python 3",
   "language": "python",
   "name": "python3"
  },
  "language_info": {
   "codemirror_mode": {
    "name": "ipython",
    "version": 3
   },
   "file_extension": ".py",
   "mimetype": "text/x-python",
   "name": "python",
   "nbconvert_exporter": "python",
   "pygments_lexer": "ipython3",
   "version": "3.5.1"
  }
 },
 "nbformat": 4,
 "nbformat_minor": 0
}
